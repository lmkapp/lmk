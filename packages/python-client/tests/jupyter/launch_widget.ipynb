{
 "cells": [
  {
   "cell_type": "code",
   "execution_count": 1,
   "id": "e1087340-4415-4d7a-a285-abb329e2fb8d",
   "metadata": {},
   "outputs": [],
   "source": [
    "import lmk"
   ]
  },
  {
   "cell_type": "code",
   "execution_count": null,
   "id": "ede1acb9-c42b-4128-95f4-388c05c3d927",
   "metadata": {},
   "outputs": [],
   "source": [
    "lmk.jupyter"
   ]
  }
 ],
 "metadata": {
  "kernelspec": {
   "display_name": "Python 3 (ipykernel)",
   "language": "python",
   "name": "python3"
  },
  "language_info": {
   "codemirror_mode": {
    "name": "ipython",
    "version": 3
   },
   "file_extension": ".py",
   "mimetype": "text/x-python",
   "name": "python",
   "nbconvert_exporter": "python",
   "pygments_lexer": "ipython3",
   "version": "3.11.3"
  }
 },
 "nbformat": 4,
 "nbformat_minor": 5
}
